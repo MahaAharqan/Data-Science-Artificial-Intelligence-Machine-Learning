{
 "cells": [
  {
   "cell_type": "code",
   "execution_count": 49,
   "id": "e8f5508a",
   "metadata": {},
   "outputs": [],
   "source": [
    "# import library, pandas and numpy to read the dataset,matplotlib to visualize data and seaborn\n",
    "import pandas as pd\n",
    "import numpy as np\n",
    "import matplotlib.pyplot as plt\n",
    "import seaborn as sns\n",
    " "
   ]
  },
  {
   "cell_type": "code",
   "execution_count": 50,
   "id": "4785ed2f",
   "metadata": {},
   "outputs": [],
   "source": [
    "# read the dataset using pd.read_csv,\n",
    "seph = pd.read_csv('sephora_website_dataset.csv')  "
   ]
  },
  {
   "cell_type": "code",
   "execution_count": 51,
   "id": "97ec0853",
   "metadata": {},
   "outputs": [
    {
     "data": {
      "text/html": [
       "<div>\n",
       "<style scoped>\n",
       "    .dataframe tbody tr th:only-of-type {\n",
       "        vertical-align: middle;\n",
       "    }\n",
       "\n",
       "    .dataframe tbody tr th {\n",
       "        vertical-align: top;\n",
       "    }\n",
       "\n",
       "    .dataframe thead th {\n",
       "        text-align: right;\n",
       "    }\n",
       "</style>\n",
       "<table border=\"1\" class=\"dataframe\">\n",
       "  <thead>\n",
       "    <tr style=\"text-align: right;\">\n",
       "      <th></th>\n",
       "      <th>id</th>\n",
       "      <th>brand</th>\n",
       "      <th>category</th>\n",
       "      <th>name</th>\n",
       "      <th>size</th>\n",
       "      <th>rating</th>\n",
       "      <th>number_of_reviews</th>\n",
       "      <th>love</th>\n",
       "      <th>price</th>\n",
       "      <th>value_price</th>\n",
       "      <th>...</th>\n",
       "      <th>MarketingFlags</th>\n",
       "      <th>MarketingFlags_content</th>\n",
       "      <th>options</th>\n",
       "      <th>details</th>\n",
       "      <th>how_to_use</th>\n",
       "      <th>ingredients</th>\n",
       "      <th>online_only</th>\n",
       "      <th>exclusive</th>\n",
       "      <th>limited_edition</th>\n",
       "      <th>limited_time_offer</th>\n",
       "    </tr>\n",
       "  </thead>\n",
       "  <tbody>\n",
       "    <tr>\n",
       "      <th>0</th>\n",
       "      <td>2218774</td>\n",
       "      <td>Acqua Di Parma</td>\n",
       "      <td>Fragrance</td>\n",
       "      <td>Blu Mediterraneo MINIATURE Set</td>\n",
       "      <td>5 x 0.16oz/5mL</td>\n",
       "      <td>4.0</td>\n",
       "      <td>4</td>\n",
       "      <td>3002</td>\n",
       "      <td>66.0</td>\n",
       "      <td>75.0</td>\n",
       "      <td>...</td>\n",
       "      <td>True</td>\n",
       "      <td>online only</td>\n",
       "      <td>no options</td>\n",
       "      <td>This enchanting set comes in a specially handc...</td>\n",
       "      <td>Suggested Usage:-Fragrance is intensified by t...</td>\n",
       "      <td>Arancia di Capri Eau de Toilette: Alcohol Dena...</td>\n",
       "      <td>1</td>\n",
       "      <td>0</td>\n",
       "      <td>0</td>\n",
       "      <td>0</td>\n",
       "    </tr>\n",
       "    <tr>\n",
       "      <th>1</th>\n",
       "      <td>2044816</td>\n",
       "      <td>Acqua Di Parma</td>\n",
       "      <td>Cologne</td>\n",
       "      <td>Colonia</td>\n",
       "      <td>0.7 oz/ 20 mL</td>\n",
       "      <td>4.5</td>\n",
       "      <td>76</td>\n",
       "      <td>2700</td>\n",
       "      <td>66.0</td>\n",
       "      <td>66.0</td>\n",
       "      <td>...</td>\n",
       "      <td>True</td>\n",
       "      <td>online only</td>\n",
       "      <td>- 0.7 oz/ 20 mL  Spray  - 1.7 oz/ 50 mL Eau d...</td>\n",
       "      <td>An elegant timeless scent filled with a fresh-...</td>\n",
       "      <td>no instructions</td>\n",
       "      <td>unknown</td>\n",
       "      <td>1</td>\n",
       "      <td>0</td>\n",
       "      <td>0</td>\n",
       "      <td>0</td>\n",
       "    </tr>\n",
       "    <tr>\n",
       "      <th>2</th>\n",
       "      <td>1417567</td>\n",
       "      <td>Acqua Di Parma</td>\n",
       "      <td>Perfume</td>\n",
       "      <td>Arancia di Capri</td>\n",
       "      <td>5 oz/ 148 mL</td>\n",
       "      <td>4.5</td>\n",
       "      <td>26</td>\n",
       "      <td>2600</td>\n",
       "      <td>180.0</td>\n",
       "      <td>180.0</td>\n",
       "      <td>...</td>\n",
       "      <td>True</td>\n",
       "      <td>online only</td>\n",
       "      <td>- 1oz/30mL Eau de Toilette  - 2.5 oz/ 74 mL E...</td>\n",
       "      <td>Fragrance Family: Fresh Scent Type: Fresh Citr...</td>\n",
       "      <td>no instructions</td>\n",
       "      <td>Alcohol Denat.- Water- Fragrance- Limonene- Li...</td>\n",
       "      <td>1</td>\n",
       "      <td>0</td>\n",
       "      <td>0</td>\n",
       "      <td>0</td>\n",
       "    </tr>\n",
       "    <tr>\n",
       "      <th>3</th>\n",
       "      <td>1417617</td>\n",
       "      <td>Acqua Di Parma</td>\n",
       "      <td>Perfume</td>\n",
       "      <td>Mirto di Panarea</td>\n",
       "      <td>2.5 oz/ 74 mL</td>\n",
       "      <td>4.5</td>\n",
       "      <td>23</td>\n",
       "      <td>2900</td>\n",
       "      <td>120.0</td>\n",
       "      <td>120.0</td>\n",
       "      <td>...</td>\n",
       "      <td>True</td>\n",
       "      <td>online only</td>\n",
       "      <td>- 1 oz/ 30 mL Eau de Toilette Spray - 2.5 oz/...</td>\n",
       "      <td>Panarea near Sicily is an an island suspended ...</td>\n",
       "      <td>no instructions</td>\n",
       "      <td>unknown</td>\n",
       "      <td>1</td>\n",
       "      <td>0</td>\n",
       "      <td>0</td>\n",
       "      <td>0</td>\n",
       "    </tr>\n",
       "    <tr>\n",
       "      <th>4</th>\n",
       "      <td>2218766</td>\n",
       "      <td>Acqua Di Parma</td>\n",
       "      <td>Fragrance</td>\n",
       "      <td>Colonia Miniature Set</td>\n",
       "      <td>5 x 0.16oz/5mL</td>\n",
       "      <td>3.5</td>\n",
       "      <td>2</td>\n",
       "      <td>943</td>\n",
       "      <td>72.0</td>\n",
       "      <td>80.0</td>\n",
       "      <td>...</td>\n",
       "      <td>True</td>\n",
       "      <td>online only</td>\n",
       "      <td>no options</td>\n",
       "      <td>The Colonia Miniature Set comes in an iconic A...</td>\n",
       "      <td>Suggested Usage:-Fragrance is intensified by t...</td>\n",
       "      <td>Colonia: Alcohol Denat.- Water- Fragrance- Lim...</td>\n",
       "      <td>1</td>\n",
       "      <td>0</td>\n",
       "      <td>0</td>\n",
       "      <td>0</td>\n",
       "    </tr>\n",
       "  </tbody>\n",
       "</table>\n",
       "<p>5 rows × 21 columns</p>\n",
       "</div>"
      ],
      "text/plain": [
       "        id           brand   category                            name  \\\n",
       "0  2218774  Acqua Di Parma  Fragrance  Blu Mediterraneo MINIATURE Set   \n",
       "1  2044816  Acqua Di Parma    Cologne                         Colonia   \n",
       "2  1417567  Acqua Di Parma    Perfume                Arancia di Capri   \n",
       "3  1417617  Acqua Di Parma    Perfume                Mirto di Panarea   \n",
       "4  2218766  Acqua Di Parma  Fragrance           Colonia Miniature Set   \n",
       "\n",
       "             size  rating  number_of_reviews  love  price  value_price  ...  \\\n",
       "0  5 x 0.16oz/5mL     4.0                  4  3002   66.0         75.0  ...   \n",
       "1   0.7 oz/ 20 mL     4.5                 76  2700   66.0         66.0  ...   \n",
       "2    5 oz/ 148 mL     4.5                 26  2600  180.0        180.0  ...   \n",
       "3   2.5 oz/ 74 mL     4.5                 23  2900  120.0        120.0  ...   \n",
       "4  5 x 0.16oz/5mL     3.5                  2   943   72.0         80.0  ...   \n",
       "\n",
       "  MarketingFlags  MarketingFlags_content  \\\n",
       "0           True             online only   \n",
       "1           True             online only   \n",
       "2           True             online only   \n",
       "3           True             online only   \n",
       "4           True             online only   \n",
       "\n",
       "                                             options  \\\n",
       "0                                         no options   \n",
       "1   - 0.7 oz/ 20 mL  Spray  - 1.7 oz/ 50 mL Eau d...   \n",
       "2   - 1oz/30mL Eau de Toilette  - 2.5 oz/ 74 mL E...   \n",
       "3   - 1 oz/ 30 mL Eau de Toilette Spray - 2.5 oz/...   \n",
       "4                                         no options   \n",
       "\n",
       "                                             details  \\\n",
       "0  This enchanting set comes in a specially handc...   \n",
       "1  An elegant timeless scent filled with a fresh-...   \n",
       "2  Fragrance Family: Fresh Scent Type: Fresh Citr...   \n",
       "3  Panarea near Sicily is an an island suspended ...   \n",
       "4  The Colonia Miniature Set comes in an iconic A...   \n",
       "\n",
       "                                          how_to_use  \\\n",
       "0  Suggested Usage:-Fragrance is intensified by t...   \n",
       "1                                    no instructions   \n",
       "2                                    no instructions   \n",
       "3                                    no instructions   \n",
       "4  Suggested Usage:-Fragrance is intensified by t...   \n",
       "\n",
       "                                         ingredients online_only  exclusive  \\\n",
       "0  Arancia di Capri Eau de Toilette: Alcohol Dena...           1          0   \n",
       "1                                            unknown           1          0   \n",
       "2  Alcohol Denat.- Water- Fragrance- Limonene- Li...           1          0   \n",
       "3                                            unknown           1          0   \n",
       "4  Colonia: Alcohol Denat.- Water- Fragrance- Lim...           1          0   \n",
       "\n",
       "   limited_edition  limited_time_offer  \n",
       "0                0                   0  \n",
       "1                0                   0  \n",
       "2                0                   0  \n",
       "3                0                   0  \n",
       "4                0                   0  \n",
       "\n",
       "[5 rows x 21 columns]"
      ]
     },
     "execution_count": 51,
     "metadata": {},
     "output_type": "execute_result"
    }
   ],
   "source": [
    "#To display the content of the first five rows\n",
    "seph.head()"
   ]
  },
  {
   "cell_type": "code",
   "execution_count": 52,
   "id": "bcee4f6a",
   "metadata": {},
   "outputs": [
    {
     "data": {
      "text/plain": [
       "(9168, 21)"
      ]
     },
     "execution_count": 52,
     "metadata": {},
     "output_type": "execute_result"
    }
   ],
   "source": [
    "# show dataset shape\n",
    "seph.shape"
   ]
  },
  {
   "cell_type": "code",
   "execution_count": 53,
   "id": "ab163fcc",
   "metadata": {},
   "outputs": [],
   "source": [
    "#  Remove some unimportant columns that we don't need\n",
    "seph.drop(['size','value_price','URL','MarketingFlags_content','options','details','how_to_use','online_only','limited_time_offer'],axis='columns',inplace= True)"
   ]
  },
  {
   "cell_type": "code",
   "execution_count": 54,
   "id": "8b7f6414",
   "metadata": {},
   "outputs": [
    {
     "data": {
      "text/plain": [
       "(9168, 12)"
      ]
     },
     "execution_count": 54,
     "metadata": {},
     "output_type": "execute_result"
    }
   ],
   "source": [
    "# show dataset shape after edit\n",
    "seph.shape "
   ]
  },
  {
   "cell_type": "code",
   "execution_count": 90,
   "id": "123d949c",
   "metadata": {},
   "outputs": [
    {
     "data": {
      "text/plain": [
       "Index(['id', 'brand', 'category', 'name', 'rating', 'number_of_reviews',\n",
       "       'love', 'price', 'MarketingFlags', 'ingredients', 'exclusive',\n",
       "       'limited_edition'],\n",
       "      dtype='object')"
      ]
     },
     "execution_count": 90,
     "metadata": {},
     "output_type": "execute_result"
    }
   ],
   "source": [
    "# check on columns names\n",
    "seph.columns"
   ]
  },
  {
   "cell_type": "code",
   "execution_count": 89,
   "id": "2b6b845a",
   "metadata": {},
   "outputs": [
    {
     "name": "stdout",
     "output_type": "stream",
     "text": [
      "<class 'pandas.core.frame.DataFrame'>\n",
      "RangeIndex: 9168 entries, 0 to 9167\n",
      "Data columns (total 12 columns):\n",
      " #   Column             Non-Null Count  Dtype  \n",
      "---  ------             --------------  -----  \n",
      " 0   id                 9168 non-null   int64  \n",
      " 1   brand              9168 non-null   object \n",
      " 2   category           9168 non-null   object \n",
      " 3   name               9168 non-null   object \n",
      " 4   rating             9168 non-null   float64\n",
      " 5   number_of_reviews  9168 non-null   int64  \n",
      " 6   love               9168 non-null   int64  \n",
      " 7   price              9168 non-null   float64\n",
      " 8   MarketingFlags     9168 non-null   bool   \n",
      " 9   ingredients        9168 non-null   object \n",
      " 10  exclusive          9168 non-null   int64  \n",
      " 11  limited_edition    9168 non-null   int64  \n",
      "dtypes: bool(1), float64(2), int64(5), object(4)\n",
      "memory usage: 797.0+ KB\n"
     ]
    }
   ],
   "source": [
    "# explore the data type at each series\n",
    "seph.info()"
   ]
  },
  {
   "cell_type": "code",
   "execution_count": 55,
   "id": "1a8eb0f6",
   "metadata": {},
   "outputs": [
    {
     "data": {
      "text/html": [
       "<div>\n",
       "<style scoped>\n",
       "    .dataframe tbody tr th:only-of-type {\n",
       "        vertical-align: middle;\n",
       "    }\n",
       "\n",
       "    .dataframe tbody tr th {\n",
       "        vertical-align: top;\n",
       "    }\n",
       "\n",
       "    .dataframe thead th {\n",
       "        text-align: right;\n",
       "    }\n",
       "</style>\n",
       "<table border=\"1\" class=\"dataframe\">\n",
       "  <thead>\n",
       "    <tr style=\"text-align: right;\">\n",
       "      <th></th>\n",
       "      <th>id</th>\n",
       "      <th>rating</th>\n",
       "      <th>number_of_reviews</th>\n",
       "      <th>love</th>\n",
       "      <th>price</th>\n",
       "      <th>exclusive</th>\n",
       "      <th>limited_edition</th>\n",
       "    </tr>\n",
       "  </thead>\n",
       "  <tbody>\n",
       "    <tr>\n",
       "      <th>count</th>\n",
       "      <td>9.168000e+03</td>\n",
       "      <td>9168.000000</td>\n",
       "      <td>9168.000000</td>\n",
       "      <td>9.168000e+03</td>\n",
       "      <td>9168.000000</td>\n",
       "      <td>9168.000000</td>\n",
       "      <td>9168.000000</td>\n",
       "    </tr>\n",
       "    <tr>\n",
       "      <th>mean</th>\n",
       "      <td>1.962952e+06</td>\n",
       "      <td>3.990020</td>\n",
       "      <td>282.139180</td>\n",
       "      <td>1.627859e+04</td>\n",
       "      <td>50.063237</td>\n",
       "      <td>0.264725</td>\n",
       "      <td>0.091841</td>\n",
       "    </tr>\n",
       "    <tr>\n",
       "      <th>std</th>\n",
       "      <td>3.859714e+05</td>\n",
       "      <td>1.007707</td>\n",
       "      <td>890.642028</td>\n",
       "      <td>4.260651e+04</td>\n",
       "      <td>47.164989</td>\n",
       "      <td>0.441211</td>\n",
       "      <td>0.288817</td>\n",
       "    </tr>\n",
       "    <tr>\n",
       "      <th>min</th>\n",
       "      <td>5.000000e+01</td>\n",
       "      <td>0.000000</td>\n",
       "      <td>0.000000</td>\n",
       "      <td>0.000000e+00</td>\n",
       "      <td>2.000000</td>\n",
       "      <td>0.000000</td>\n",
       "      <td>0.000000</td>\n",
       "    </tr>\n",
       "    <tr>\n",
       "      <th>25%</th>\n",
       "      <td>1.819453e+06</td>\n",
       "      <td>4.000000</td>\n",
       "      <td>10.000000</td>\n",
       "      <td>1.600000e+03</td>\n",
       "      <td>24.000000</td>\n",
       "      <td>0.000000</td>\n",
       "      <td>0.000000</td>\n",
       "    </tr>\n",
       "    <tr>\n",
       "      <th>50%</th>\n",
       "      <td>2.072354e+06</td>\n",
       "      <td>4.000000</td>\n",
       "      <td>46.000000</td>\n",
       "      <td>4.800000e+03</td>\n",
       "      <td>35.000000</td>\n",
       "      <td>0.000000</td>\n",
       "      <td>0.000000</td>\n",
       "    </tr>\n",
       "    <tr>\n",
       "      <th>75%</th>\n",
       "      <td>2.230591e+06</td>\n",
       "      <td>4.500000</td>\n",
       "      <td>210.000000</td>\n",
       "      <td>1.380000e+04</td>\n",
       "      <td>59.000000</td>\n",
       "      <td>1.000000</td>\n",
       "      <td>0.000000</td>\n",
       "    </tr>\n",
       "    <tr>\n",
       "      <th>max</th>\n",
       "      <td>2.359685e+06</td>\n",
       "      <td>5.000000</td>\n",
       "      <td>19000.000000</td>\n",
       "      <td>1.300000e+06</td>\n",
       "      <td>549.000000</td>\n",
       "      <td>1.000000</td>\n",
       "      <td>1.000000</td>\n",
       "    </tr>\n",
       "  </tbody>\n",
       "</table>\n",
       "</div>"
      ],
      "text/plain": [
       "                 id       rating  number_of_reviews          love  \\\n",
       "count  9.168000e+03  9168.000000        9168.000000  9.168000e+03   \n",
       "mean   1.962952e+06     3.990020         282.139180  1.627859e+04   \n",
       "std    3.859714e+05     1.007707         890.642028  4.260651e+04   \n",
       "min    5.000000e+01     0.000000           0.000000  0.000000e+00   \n",
       "25%    1.819453e+06     4.000000          10.000000  1.600000e+03   \n",
       "50%    2.072354e+06     4.000000          46.000000  4.800000e+03   \n",
       "75%    2.230591e+06     4.500000         210.000000  1.380000e+04   \n",
       "max    2.359685e+06     5.000000       19000.000000  1.300000e+06   \n",
       "\n",
       "             price    exclusive  limited_edition  \n",
       "count  9168.000000  9168.000000      9168.000000  \n",
       "mean     50.063237     0.264725         0.091841  \n",
       "std      47.164989     0.441211         0.288817  \n",
       "min       2.000000     0.000000         0.000000  \n",
       "25%      24.000000     0.000000         0.000000  \n",
       "50%      35.000000     0.000000         0.000000  \n",
       "75%      59.000000     1.000000         0.000000  \n",
       "max     549.000000     1.000000         1.000000  "
      ]
     },
     "execution_count": 55,
     "metadata": {},
     "output_type": "execute_result"
    }
   ],
   "source": [
    "#Displays the statistical description of the dataset\n",
    "seph.describe()"
   ]
  },
  {
   "cell_type": "code",
   "execution_count": 56,
   "id": "a33c6a54",
   "metadata": {},
   "outputs": [
    {
     "data": {
      "text/plain": [
       "id                   0\n",
       "brand                0\n",
       "category             0\n",
       "name                 0\n",
       "rating               0\n",
       "number_of_reviews    0\n",
       "love                 0\n",
       "price                0\n",
       "MarketingFlags       0\n",
       "ingredients          0\n",
       "exclusive            0\n",
       "limited_edition      0\n",
       "dtype: int64"
      ]
     },
     "execution_count": 56,
     "metadata": {},
     "output_type": "execute_result"
    }
   ],
   "source": [
    "# check to null values\n",
    "seph.isna().sum()"
   ]
  },
  {
   "cell_type": "code",
   "execution_count": 57,
   "id": "03ac3949",
   "metadata": {},
   "outputs": [
    {
     "data": {
      "text/html": [
       "<div>\n",
       "<style scoped>\n",
       "    .dataframe tbody tr th:only-of-type {\n",
       "        vertical-align: middle;\n",
       "    }\n",
       "\n",
       "    .dataframe tbody tr th {\n",
       "        vertical-align: top;\n",
       "    }\n",
       "\n",
       "    .dataframe thead th {\n",
       "        text-align: right;\n",
       "    }\n",
       "</style>\n",
       "<table border=\"1\" class=\"dataframe\">\n",
       "  <thead>\n",
       "    <tr style=\"text-align: right;\">\n",
       "      <th></th>\n",
       "      <th>id</th>\n",
       "      <th>brand</th>\n",
       "      <th>category</th>\n",
       "      <th>name</th>\n",
       "      <th>rating</th>\n",
       "      <th>number_of_reviews</th>\n",
       "      <th>love</th>\n",
       "      <th>price</th>\n",
       "      <th>MarketingFlags</th>\n",
       "      <th>ingredients</th>\n",
       "      <th>exclusive</th>\n",
       "      <th>limited_edition</th>\n",
       "    </tr>\n",
       "  </thead>\n",
       "  <tbody>\n",
       "    <tr>\n",
       "      <th>0</th>\n",
       "      <td>2218774</td>\n",
       "      <td>Acqua Di Parma</td>\n",
       "      <td>Fragrance</td>\n",
       "      <td>Blu Mediterraneo MINIATURE Set</td>\n",
       "      <td>4.0</td>\n",
       "      <td>4</td>\n",
       "      <td>3002</td>\n",
       "      <td>66.0</td>\n",
       "      <td>True</td>\n",
       "      <td>Arancia di Capri Eau de Toilette: Alcohol Dena...</td>\n",
       "      <td>0</td>\n",
       "      <td>0</td>\n",
       "    </tr>\n",
       "    <tr>\n",
       "      <th>1</th>\n",
       "      <td>2044816</td>\n",
       "      <td>Acqua Di Parma</td>\n",
       "      <td>Cologne</td>\n",
       "      <td>Colonia</td>\n",
       "      <td>4.5</td>\n",
       "      <td>76</td>\n",
       "      <td>2700</td>\n",
       "      <td>66.0</td>\n",
       "      <td>True</td>\n",
       "      <td>unknown</td>\n",
       "      <td>0</td>\n",
       "      <td>0</td>\n",
       "    </tr>\n",
       "    <tr>\n",
       "      <th>2</th>\n",
       "      <td>1417567</td>\n",
       "      <td>Acqua Di Parma</td>\n",
       "      <td>Perfume</td>\n",
       "      <td>Arancia di Capri</td>\n",
       "      <td>4.5</td>\n",
       "      <td>26</td>\n",
       "      <td>2600</td>\n",
       "      <td>180.0</td>\n",
       "      <td>True</td>\n",
       "      <td>Alcohol Denat.- Water- Fragrance- Limonene- Li...</td>\n",
       "      <td>0</td>\n",
       "      <td>0</td>\n",
       "    </tr>\n",
       "    <tr>\n",
       "      <th>3</th>\n",
       "      <td>1417617</td>\n",
       "      <td>Acqua Di Parma</td>\n",
       "      <td>Perfume</td>\n",
       "      <td>Mirto di Panarea</td>\n",
       "      <td>4.5</td>\n",
       "      <td>23</td>\n",
       "      <td>2900</td>\n",
       "      <td>120.0</td>\n",
       "      <td>True</td>\n",
       "      <td>unknown</td>\n",
       "      <td>0</td>\n",
       "      <td>0</td>\n",
       "    </tr>\n",
       "    <tr>\n",
       "      <th>4</th>\n",
       "      <td>2218766</td>\n",
       "      <td>Acqua Di Parma</td>\n",
       "      <td>Fragrance</td>\n",
       "      <td>Colonia Miniature Set</td>\n",
       "      <td>3.5</td>\n",
       "      <td>2</td>\n",
       "      <td>943</td>\n",
       "      <td>72.0</td>\n",
       "      <td>True</td>\n",
       "      <td>Colonia: Alcohol Denat.- Water- Fragrance- Lim...</td>\n",
       "      <td>0</td>\n",
       "      <td>0</td>\n",
       "    </tr>\n",
       "  </tbody>\n",
       "</table>\n",
       "</div>"
      ],
      "text/plain": [
       "        id           brand   category                            name  rating  \\\n",
       "0  2218774  Acqua Di Parma  Fragrance  Blu Mediterraneo MINIATURE Set     4.0   \n",
       "1  2044816  Acqua Di Parma    Cologne                         Colonia     4.5   \n",
       "2  1417567  Acqua Di Parma    Perfume                Arancia di Capri     4.5   \n",
       "3  1417617  Acqua Di Parma    Perfume                Mirto di Panarea     4.5   \n",
       "4  2218766  Acqua Di Parma  Fragrance           Colonia Miniature Set     3.5   \n",
       "\n",
       "   number_of_reviews  love  price  MarketingFlags  \\\n",
       "0                  4  3002   66.0            True   \n",
       "1                 76  2700   66.0            True   \n",
       "2                 26  2600  180.0            True   \n",
       "3                 23  2900  120.0            True   \n",
       "4                  2   943   72.0            True   \n",
       "\n",
       "                                         ingredients  exclusive  \\\n",
       "0  Arancia di Capri Eau de Toilette: Alcohol Dena...          0   \n",
       "1                                            unknown          0   \n",
       "2  Alcohol Denat.- Water- Fragrance- Limonene- Li...          0   \n",
       "3                                            unknown          0   \n",
       "4  Colonia: Alcohol Denat.- Water- Fragrance- Lim...          0   \n",
       "\n",
       "   limited_edition  \n",
       "0                0  \n",
       "1                0  \n",
       "2                0  \n",
       "3                0  \n",
       "4                0  "
      ]
     },
     "execution_count": 57,
     "metadata": {},
     "output_type": "execute_result"
    }
   ],
   "source": [
    "seph.head()"
   ]
  },
  {
   "cell_type": "code",
   "execution_count": 81,
   "id": "1f27a556",
   "metadata": {},
   "outputs": [
    {
     "data": {
      "text/plain": [
       "pandas.core.frame.DataFrame"
      ]
     },
     "execution_count": 81,
     "metadata": {},
     "output_type": "execute_result"
    }
   ],
   "source": [
    "#The importance of the data type\n",
    "type(seph)"
   ]
  },
  {
   "cell_type": "markdown",
   "id": "f84e10a7",
   "metadata": {},
   "source": [
    "## 1  Which Broduct the People love in Sephora website ?"
   ]
  },
  {
   "cell_type": "code",
   "execution_count": 94,
   "id": "3ff1128c",
   "metadata": {},
   "outputs": [
    {
     "data": {
      "text/plain": [
       "1300000"
      ]
     },
     "execution_count": 94,
     "metadata": {},
     "output_type": "execute_result"
    }
   ],
   "source": [
    "seph.love.max()"
   ]
  },
  {
   "cell_type": "code",
   "execution_count": 99,
   "id": "50dcc919",
   "metadata": {},
   "outputs": [
    {
     "data": {
      "text/html": [
       "<div>\n",
       "<style scoped>\n",
       "    .dataframe tbody tr th:only-of-type {\n",
       "        vertical-align: middle;\n",
       "    }\n",
       "\n",
       "    .dataframe tbody tr th {\n",
       "        vertical-align: top;\n",
       "    }\n",
       "\n",
       "    .dataframe thead th {\n",
       "        text-align: right;\n",
       "    }\n",
       "</style>\n",
       "<table border=\"1\" class=\"dataframe\">\n",
       "  <thead>\n",
       "    <tr style=\"text-align: right;\">\n",
       "      <th></th>\n",
       "      <th>love</th>\n",
       "    </tr>\n",
       "    <tr>\n",
       "      <th>name</th>\n",
       "      <th></th>\n",
       "    </tr>\n",
       "  </thead>\n",
       "  <tbody>\n",
       "    <tr>\n",
       "      <th>Everlasting Liquid Lipstick</th>\n",
       "      <td>1300000</td>\n",
       "    </tr>\n",
       "    <tr>\n",
       "      <th>Radiant Creamy Concealer</th>\n",
       "      <td>770700</td>\n",
       "    </tr>\n",
       "    <tr>\n",
       "      <th>Brow Wiz</th>\n",
       "      <td>660000</td>\n",
       "    </tr>\n",
       "    <tr>\n",
       "      <th>Translucent Loose Setting Powder</th>\n",
       "      <td>657100</td>\n",
       "    </tr>\n",
       "    <tr>\n",
       "      <th>Blush</th>\n",
       "      <td>646600</td>\n",
       "    </tr>\n",
       "    <tr>\n",
       "      <th>...</th>\n",
       "      <td>...</td>\n",
       "    </tr>\n",
       "    <tr>\n",
       "      <th>Focuspot™ Line &amp; Wrinkle Micro Tip™ Patch</th>\n",
       "      <td>0</td>\n",
       "    </tr>\n",
       "    <tr>\n",
       "      <th>Rouge Interdit Vinyl Color Enhancing Lipstick - 16 Noir Revelateur</th>\n",
       "      <td>0</td>\n",
       "    </tr>\n",
       "    <tr>\n",
       "      <th>After Sunset Eau de Parfum Travel Spray</th>\n",
       "      <td>0</td>\n",
       "    </tr>\n",
       "    <tr>\n",
       "      <th>Luxury CBD Beauty Serum Mini</th>\n",
       "      <td>0</td>\n",
       "    </tr>\n",
       "    <tr>\n",
       "      <th>Orange Sanguine Cologne Absolue Pure Perfume Travel Spray</th>\n",
       "      <td>0</td>\n",
       "    </tr>\n",
       "  </tbody>\n",
       "</table>\n",
       "<p>9106 rows × 1 columns</p>\n",
       "</div>"
      ],
      "text/plain": [
       "                                                       love\n",
       "name                                                       \n",
       "Everlasting Liquid Lipstick                         1300000\n",
       "Radiant Creamy Concealer                             770700\n",
       "Brow Wiz                                             660000\n",
       "Translucent Loose Setting Powder                     657100\n",
       "Blush                                                646600\n",
       "...                                                     ...\n",
       "Focuspot™ Line & Wrinkle Micro Tip™ Patch                 0\n",
       "Rouge Interdit Vinyl Color Enhancing Lipstick -...        0\n",
       "After Sunset Eau de Parfum Travel Spray                   0\n",
       "Luxury CBD Beauty Serum Mini                              0\n",
       "Orange Sanguine Cologne Absolue Pure Perfume Tr...        0\n",
       "\n",
       "[9106 rows x 1 columns]"
      ]
     },
     "execution_count": 99,
     "metadata": {},
     "output_type": "execute_result"
    }
   ],
   "source": [
    "seph.groupby(['name'])[['love']].max().sort_values('love',ascending=False)"
   ]
  },
  {
   "cell_type": "markdown",
   "id": "ddb89219",
   "metadata": {},
   "source": [
    "#### \"Everlasting Liquid Lipstick\" It is the women's favorite product"
   ]
  },
  {
   "cell_type": "markdown",
   "id": "be0f1dd5",
   "metadata": {},
   "source": [
    "## 2 How many Sephora products have a rating of 5.0 ?"
   ]
  },
  {
   "cell_type": "code",
   "execution_count": 58,
   "id": "13c54c77",
   "metadata": {},
   "outputs": [
    {
     "data": {
      "text/plain": [
       "4.5    3527\n",
       "4.0    2853\n",
       "3.5    1051\n",
       "5.0     872\n",
       "0.0     398\n",
       "3.0     308\n",
       "2.5      88\n",
       "2.0      39\n",
       "1.0      23\n",
       "1.5       9\n",
       "Name: rating, dtype: int64"
      ]
     },
     "execution_count": 58,
     "metadata": {},
     "output_type": "execute_result"
    }
   ],
   "source": [
    "seph.rating.value_counts()"
   ]
  },
  {
   "cell_type": "markdown",
   "id": "fc824633",
   "metadata": {},
   "source": [
    "#### Sephora has about 872 products with a high rating of 5.0"
   ]
  },
  {
   "cell_type": "code",
   "execution_count": 93,
   "id": "9387f57e",
   "metadata": {},
   "outputs": [
    {
     "data": {
      "text/plain": [
       "<AxesSubplot:xlabel='rating', ylabel='count'>"
      ]
     },
     "execution_count": 93,
     "metadata": {},
     "output_type": "execute_result"
    },
    {
     "data": {
      "image/png": "[encoded data removed]",
      "text/plain": [
       "<Figure size 720x360 with 1 Axes>"
      ]
     },
     "metadata": {
      "needs_background": "light"
     },
     "output_type": "display_data"
    }
   ],
   "source": [
    "plt.figure(figsize=(10,5))\n",
    "sns.countplot(x=seph.rating)"
   ]
  },
  {
   "cell_type": "markdown",
   "id": "50583c5b",
   "metadata": {},
   "source": [
    "## **3 What is the most popular category of products at Sephora's website ?**"
   ]
  },
  {
   "cell_type": "code",
   "execution_count": 59,
   "id": "1705162e",
   "metadata": {},
   "outputs": [
    {
     "data": {
      "text/plain": [
       "Perfume                  665\n",
       "Moisturizers             451\n",
       "Face Serums              384\n",
       "Value & Gift Sets        378\n",
       "Face Wash & Cleansers    247\n",
       "                        ... \n",
       "Body Moisturizers          1\n",
       "Lip Treatments             1\n",
       "Lid Shadow Brush           1\n",
       "Accessories                1\n",
       "Wellness                   1\n",
       "Name: category, Length: 143, dtype: int64"
      ]
     },
     "execution_count": 59,
     "metadata": {},
     "output_type": "execute_result"
    }
   ],
   "source": [
    "seph.category.value_counts()"
   ]
  },
  {
   "cell_type": "markdown",
   "id": "eba72631",
   "metadata": {},
   "source": [
    "#### We found that the most popular category with products on Sephora is \"perfumes\" with approximately 665 products, followed by \"Moisturizers\" with 451 products."
   ]
  },
  {
   "cell_type": "code",
   "execution_count": 67,
   "id": "7e82a04c",
   "metadata": {},
   "outputs": [],
   "source": [
    "x=seph.category.value_counts() #To clarify, I made the following diagram"
   ]
  },
  {
   "cell_type": "code",
   "execution_count": 68,
   "id": "abab63ba",
   "metadata": {},
   "outputs": [],
   "source": [
    "X1 = x.values.flatten()"
   ]
  },
  {
   "cell_type": "code",
   "execution_count": 73,
   "id": "5120b239",
   "metadata": {},
   "outputs": [
    {
     "data": {
      "text/plain": [
       "([<matplotlib.patches.Wedge at 0x195a6e97820>,\n",
       "  <matplotlib.patches.Wedge at 0x195a6e97f10>,\n",
       "  <matplotlib.patches.Wedge at 0x195a6ea5520>,\n",
       "  <matplotlib.patches.Wedge at 0x195a6ea5b20>,\n",
       "  <matplotlib.patches.Wedge at 0x195a6ebf160>],\n",
       " [Text(0.6098590506403112, 0.915462690857524, ''),\n",
       "  Text(-0.9607866756499656, 0.5356201675567193, ''),\n",
       "  Text(-0.8226979633708238, -0.7301835803861237, ''),\n",
       "  Text(0.3057186177907433, -1.0566627308352072, ''),\n",
       "  Text(1.0274716966475201, -0.3928128213134938, '')],\n",
       " [Text(0.3326503912583515, 0.4993432859222857, '31%'),\n",
       "  Text(-0.5240654594454357, 0.29215645503093773, '21%'),\n",
       "  Text(-0.448744343656813, -0.39828195293788565, '18%'),\n",
       "  Text(0.16675560970404177, -0.5763614895464766, '18%'),\n",
       "  Text(0.5604391072622836, -0.21426153889826932, '12%')])"
      ]
     },
     "execution_count": 73,
     "metadata": {},
     "output_type": "execute_result"
    },
    {
     "data": {
      "image/png": "[encoded data removed]",
      "text/plain": [
       "<Figure size 432x288 with 1 Axes>"
      ]
     },
     "metadata": {},
     "output_type": "display_data"
    }
   ],
   "source": [
    "plt.pie(X1[:5],autopct='%.0f%%')"
   ]
  },
  {
   "cell_type": "markdown",
   "id": "ccb122cc",
   "metadata": {},
   "source": [
    "## 4\tWhat is the most expensive product on Sephora website ?"
   ]
  },
  {
   "cell_type": "code",
   "execution_count": 87,
   "id": "557b98f1",
   "metadata": {},
   "outputs": [
    {
     "data": {
      "text/html": [
       "<div>\n",
       "<style scoped>\n",
       "    .dataframe tbody tr th:only-of-type {\n",
       "        vertical-align: middle;\n",
       "    }\n",
       "\n",
       "    .dataframe tbody tr th {\n",
       "        vertical-align: top;\n",
       "    }\n",
       "\n",
       "    .dataframe thead th {\n",
       "        text-align: right;\n",
       "    }\n",
       "</style>\n",
       "<table border=\"1\" class=\"dataframe\">\n",
       "  <thead>\n",
       "    <tr style=\"text-align: right;\">\n",
       "      <th></th>\n",
       "      <th>price</th>\n",
       "    </tr>\n",
       "    <tr>\n",
       "      <th>name</th>\n",
       "      <th></th>\n",
       "    </tr>\n",
       "  </thead>\n",
       "  <tbody>\n",
       "    <tr>\n",
       "      <th>Airwrap™ Styler</th>\n",
       "      <td>549.0</td>\n",
       "    </tr>\n",
       "    <tr>\n",
       "      <th>Corrale™ Hair Straightener</th>\n",
       "      <td>499.0</td>\n",
       "    </tr>\n",
       "    <tr>\n",
       "      <th>Neuropeptide Smoothing Facial Conformer</th>\n",
       "      <td>495.0</td>\n",
       "    </tr>\n",
       "    <tr>\n",
       "      <th>Orchidée Impériale The Cream</th>\n",
       "      <td>460.0</td>\n",
       "    </tr>\n",
       "    <tr>\n",
       "      <th>Elixir Vitae Serum Wrinkle Solution</th>\n",
       "      <td>450.0</td>\n",
       "    </tr>\n",
       "    <tr>\n",
       "      <th>...</th>\n",
       "      <td>...</td>\n",
       "    </tr>\n",
       "    <tr>\n",
       "      <th>Nose Strip</th>\n",
       "      <td>3.0</td>\n",
       "    </tr>\n",
       "    <tr>\n",
       "      <th>Nose Mask - Pineapple</th>\n",
       "      <td>3.0</td>\n",
       "    </tr>\n",
       "    <tr>\n",
       "      <th>Mini Exfoliating Wipes – Charcoal</th>\n",
       "      <td>3.0</td>\n",
       "    </tr>\n",
       "    <tr>\n",
       "      <th>Fizzing Bath Star Mini - Surprise Flowers</th>\n",
       "      <td>2.0</td>\n",
       "    </tr>\n",
       "    <tr>\n",
       "      <th>Artist Color Refillable Makeup Palette</th>\n",
       "      <td>2.0</td>\n",
       "    </tr>\n",
       "  </tbody>\n",
       "</table>\n",
       "<p>9106 rows × 1 columns</p>\n",
       "</div>"
      ],
      "text/plain": [
       "                                           price\n",
       "name                                            \n",
       "Airwrap™ Styler                            549.0\n",
       "Corrale™ Hair Straightener                 499.0\n",
       "Neuropeptide Smoothing Facial Conformer    495.0\n",
       "Orchidée Impériale The Cream               460.0\n",
       "Elixir Vitae Serum Wrinkle Solution        450.0\n",
       "...                                          ...\n",
       "Nose Strip                                   3.0\n",
       "Nose Mask - Pineapple                        3.0\n",
       "Mini Exfoliating Wipes – Charcoal            3.0\n",
       "Fizzing Bath Star Mini - Surprise Flowers    2.0\n",
       "Artist Color Refillable Makeup Palette       2.0\n",
       "\n",
       "[9106 rows x 1 columns]"
      ]
     },
     "execution_count": 87,
     "metadata": {},
     "output_type": "execute_result"
    }
   ],
   "source": [
    "seph.groupby(['name'])[['price']].max().sort_values('price',ascending=False)"
   ]
  },
  {
   "cell_type": "markdown",
   "id": "b8007f0b",
   "metadata": {},
   "source": [
    "#### The most expensive product is \"Airwrap™ Styler\" at 549.0"
   ]
  }
 ],
 "metadata": {
  "kernelspec": {
   "display_name": "Python 3",
   "language": "python",
   "name": "python3"
  },
  "language_info": {
   "codemirror_mode": {
    "name": "ipython",
    "version": 3
   },
   "file_extension": ".py",
   "mimetype": "text/x-python",
   "name": "python",
   "nbconvert_exporter": "python",
   "pygments_lexer": "ipython3",
   "version": "3.8.8"
  }
 },
 "nbformat": 4,
 "nbformat_minor": 5
}
